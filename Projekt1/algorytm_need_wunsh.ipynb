{
 "cells": [
  {
   "cell_type": "code",
   "execution_count": 1,
   "metadata": {},
   "outputs": [],
   "source": [
    "import numpy as np\n",
    "import networkx as nx"
   ]
  },
  {
   "cell_type": "code",
   "execution_count": 34,
   "metadata": {},
   "outputs": [],
   "source": [
    "seq1=''\n",
    "with open(\"seq1.txt\", \"r\") as conf_file:\n",
    "    for idx, line in enumerate(conf_file):\n",
    "        if idx==0:\n",
    "            continue\n",
    "        seq1 = seq1.join(line.replace(\"\\n\", \"\"))\n",
    "        if len(seq1)>= 15:\n",
    "            seq1 = seq1[:15]\n",
    "            break\n",
    "        print(len(line))\n",
    "#         name, val = line.split(\"=\")\n",
    "#         config[name.strip()] = int(val.replace(\"\\n\", \"\").strip())"
   ]
  },
  {
   "cell_type": "code",
   "execution_count": 36,
   "metadata": {},
   "outputs": [
    {
     "data": {
      "text/plain": [
       "15"
      ]
     },
     "execution_count": 36,
     "metadata": {},
     "output_type": "execute_result"
    }
   ],
   "source": [
    "len(seq1)"
   ]
  },
  {
   "cell_type": "code",
   "execution_count": 2,
   "metadata": {},
   "outputs": [],
   "source": [
    "# config:\n",
    "same = 5\n",
    "diff = -5\n",
    "gp = -2\n",
    "max_number_paths = 10 # ile wypiszemy maksymalnie różnych dopasowań\n",
    "max_seq_length = 15 #maksyamlna długość sekwencji, to ma być tylko sprawdzenie\n",
    "\n",
    "\n",
    "# odpalenie: pyhton plik.py -a input1 -b intput2 -c config"
   ]
  },
  {
   "cell_type": "code",
   "execution_count": 10,
   "metadata": {},
   "outputs": [],
   "source": [
    "seq1 = list('SMART')\n",
    "seq2 = list('MARS')"
   ]
  },
  {
   "cell_type": "code",
   "execution_count": 41,
   "metadata": {},
   "outputs": [],
   "source": [
    "def create_matrix_and_graph(seq1,seq2):\n",
    "    n = len(seq1)\n",
    "    m = len(seq2)\n",
    "    matrix = [[0]*(n+1) for i in range(m+1)]\n",
    "#     stworz graf\n",
    "    DG = nx.DiGraph()\n",
    "    for i in range(n+1):\n",
    "        for j in range(m+1):\n",
    "            DG.add_node(str(j)+','+str(i))\n",
    "            \n",
    "#     wypełnij wartości macierzy i dodaj odpowiednie krawędzie w grafie\n",
    "    for j in range(1,m+1):\n",
    "        matrix[j][0]=matrix[j-1][0]+gp\n",
    "        DG.add_edge(str(j)+',0',str(j-1)+',0')\n",
    "        for i in range(1,n+1):\n",
    "            matrix[0][i]=matrix[0][i-1]+gp\n",
    "            DG.add_edge('0,'+str(i),'0,'+str(i-1))\n",
    "            \n",
    "            val1 = matrix[j-1][i]+gp\n",
    "            val2 = matrix[j][i-1]+gp\n",
    "            if seq1[i-1] == seq2[j-1]:\n",
    "                val3 = matrix[j-1][i-1]+same\n",
    "            else:\n",
    "                val3 = matrix[j-1][i-1]+diff\n",
    "            val_max = max([val1,val2,val3])\n",
    "            matrix[j][i] = val_max\n",
    "            \n",
    "            if val1 == val_max:\n",
    "                DG.add_edge(str(j)+','+str(i), str(j-1)+','+str(i))\n",
    "            if val2 == val_max:\n",
    "                DG.add_edge(str(j)+','+str(i), str(j)+','+str(i-1))\n",
    "            if val3 == val_max: \n",
    "                DG.add_edge(str(j)+','+str(i), str(j-1)+','+str(i-1))\n",
    "    return matrix, DG"
   ]
  },
  {
   "cell_type": "code",
   "execution_count": 42,
   "metadata": {},
   "outputs": [],
   "source": [
    "macierz, graf = create_matrix_and_graph(seq1,seq2)"
   ]
  },
  {
   "cell_type": "code",
   "execution_count": 47,
   "metadata": {},
   "outputs": [],
   "source": [
    "sciezki = paths_in_graph(graf, len(seq2), len(seq1), max_number_paths)"
   ]
  },
  {
   "cell_type": "code",
   "execution_count": 48,
   "metadata": {},
   "outputs": [],
   "source": [
    "sciezki_ = change_str_to_int(sciezki)"
   ]
  },
  {
   "cell_type": "code",
   "execution_count": 52,
   "metadata": {},
   "outputs": [],
   "source": [
    "modification_to_file(sciezki_,seq1,seq2,'test.txt', macierz)"
   ]
  },
  {
   "cell_type": "code",
   "execution_count": 45,
   "metadata": {},
   "outputs": [],
   "source": [
    "def paths_in_graph(DG,m,n,max_number_paths):\n",
    "    x = []\n",
    "    for num, i in enumerate(nx.all_simple_paths(DG,str(m)+','+str(n),'0,0')):\n",
    "        if num == max_number_paths:\n",
    "            break\n",
    "        x.append([])\n",
    "        for j in i:\n",
    "            x[num].append(j.split(','))\n",
    "    return x"
   ]
  },
  {
   "cell_type": "code",
   "execution_count": 46,
   "metadata": {},
   "outputs": [],
   "source": [
    "def change_str_to_int(x):\n",
    "    for idx_x, lists in enumerate(x):\n",
    "        for idx_lists, node in enumerate(lists):\n",
    "            for idx_node, number in enumerate(node):\n",
    "                x[idx_x][idx_lists][idx_node] = int(number)\n",
    "        x[idx_x] = x[idx_x][::-1]\n",
    "    return x"
   ]
  },
  {
   "cell_type": "code",
   "execution_count": 51,
   "metadata": {},
   "outputs": [],
   "source": [
    "def modification_to_file(paths, seq1, seq2, filename, matrix):\n",
    "    file = open(filename,'w')\n",
    "    sums=0\n",
    "    for idx in paths[0]:\n",
    "        sums+=matrix[idx[0]][idx[1]]   \n",
    "    file.write('SCORE = '+str(sums)+'\\n')\n",
    "    \n",
    "    for path in paths:\n",
    "        line1, line2 = modification(path, seq1, seq2)\n",
    "        file.write(line1+'\\n')\n",
    "        file.write(line2+'\\n')\n",
    "        file.write(\"\\n\")\n",
    "    file.close()\n",
    "        \n",
    "def modification(path, seq1, seq2):\n",
    "    line1 = \"\"\n",
    "    line2 = \"\"\n",
    "    for idx_node, node in enumerate(path[1:],1):\n",
    "        if sum(path[idx_node-1])+2==sum(path[idx_node]):\n",
    "            #wtedy obie są dobre\n",
    "            line1+=seq1[path[idx_node-1][1]]\n",
    "            line2+=seq2[path[idx_node-1][0]]\n",
    "        elif path[idx_node-1][0]==path[idx_node][0]:\n",
    "            #wtedy w drugim seq jest gap\n",
    "            line1+=seq1[path[idx_node-1][1]]\n",
    "            line2+='-'\n",
    "        else:\n",
    "            line1+='-'\n",
    "            line2+=seq2[path[idx_node-1][0]]\n",
    "    return line1, line2\n"
   ]
  },
  {
   "cell_type": "code",
   "execution_count": 53,
   "metadata": {},
   "outputs": [],
   "source": [
    "import argparse\n",
    "parser = argparse.ArgumentParser()\n",
    "parser.add_argument(\"square\", type=int,\n",
    "                    help=\"display a square of a given number\")\n",
    "parser.add_argument(\"-v\", \"--verbosity\", type=int,\n",
    "                    help=\"increase output verbosity\")\n",
    "args = parser.parse_args()\n",
    "answer = args.square**2\n",
    "if args.verbosity == 2:\n",
    "    print \"the square of {} equals {}\".format(args.square, answer)\n",
    "elif args.verbosity == 1:\n",
    "    print \"{}^2 == {}\".format(args.square, answer)\n",
    "else:\n",
    "    print answer"
   ]
  }
 ],
 "metadata": {
  "kernelspec": {
   "display_name": "Python 3",
   "language": "python",
   "name": "python3"
  },
  "language_info": {
   "codemirror_mode": {
    "name": "ipython",
    "version": 3
   },
   "file_extension": ".py",
   "mimetype": "text/x-python",
   "name": "python",
   "nbconvert_exporter": "python",
   "pygments_lexer": "ipython3",
   "version": "3.7.2"
  }
 },
 "nbformat": 4,
 "nbformat_minor": 4
}
